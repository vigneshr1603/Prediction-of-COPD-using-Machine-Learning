{
 "cells": [
  {
   "cell_type": "markdown",
   "id": "4fb05a30",
   "metadata": {},
   "source": [
    "# Module 5 : Performance measurements of Decision Tree Classifier:"
   ]
  },
  {
   "cell_type": "code",
   "execution_count": 1,
   "id": "75790c16",
   "metadata": {},
   "outputs": [],
   "source": [
    "#import library packages\n",
    "import pandas as pd\n",
    "import matplotlib.pyplot as plt\n",
    "import seaborn as sns\n",
    "import numpy as np"
   ]
  },
  {
   "cell_type": "code",
   "execution_count": 2,
   "id": "f82dfa6e",
   "metadata": {},
   "outputs": [],
   "source": [
    "import warnings\n",
    "warnings.filterwarnings('ignore')"
   ]
  },
  {
   "cell_type": "code",
   "execution_count": 3,
   "id": "77bd5b52",
   "metadata": {},
   "outputs": [],
   "source": [
    "#Load given dataset\n",
    "data = pd.read_csv(\"Lung.csv\")"
   ]
  },
  {
   "cell_type": "code",
   "execution_count": 4,
   "id": "6242a996",
   "metadata": {},
   "outputs": [],
   "source": [
    "df=data.dropna()"
   ]
  },
  {
   "cell_type": "code",
   "execution_count": 5,
   "id": "2abd26f8",
   "metadata": {},
   "outputs": [
    {
     "data": {
      "text/plain": [
       "Index(['GENDER', 'AGE', 'SMOKING', 'YELLOW_FINGERS', 'ANXIETY',\n",
       "       'PEER_PRESSURE', 'CHRONIC_DISEASE', 'FATIGUE ', 'ALLERGY ', 'WHEEZING',\n",
       "       'ALCOHOL_CONSUMING', 'COUGHING', 'SHORTNESS_OF_BREATH',\n",
       "       'SWALLOWING_DIFFICULTY', 'CHEST_PAIN', 'LUNG_CANCER'],\n",
       "      dtype='object')"
      ]
     },
     "execution_count": 5,
     "metadata": {},
     "output_type": "execute_result"
    }
   ],
   "source": [
    "df.columns"
   ]
  },
  {
   "cell_type": "code",
   "execution_count": 6,
   "id": "e7b4fd83",
   "metadata": {},
   "outputs": [],
   "source": [
    "#According to the cross-validated MCC scores, the random forest is the best-performing model, so now let's evaluate its performance on the test set.\n",
    "from sklearn.metrics import confusion_matrix, classification_report, accuracy_score, roc_auc_score"
   ]
  },
  {
   "cell_type": "code",
   "execution_count": 7,
   "id": "334df41e",
   "metadata": {},
   "outputs": [],
   "source": [
    "from sklearn.preprocessing import LabelEncoder\n",
    "var_mod = ['GENDER','LUNG_CANCER']\n",
    "le = LabelEncoder()\n",
    "for i in var_mod:\n",
    "    df[i] = le.fit_transform(df[i]).astype(int)"
   ]
  },
  {
   "cell_type": "code",
   "execution_count": 8,
   "id": "fbbe8e00",
   "metadata": {},
   "outputs": [],
   "source": [
    "X = df.drop(labels='LUNG_CANCER', axis=1)\n",
    "#Response variable\n",
    "y = df.loc[:,'LUNG_CANCER'] "
   ]
  },
  {
   "cell_type": "code",
   "execution_count": 9,
   "id": "67ec2768",
   "metadata": {},
   "outputs": [],
   "source": [
    "#We'll use a test size of 30%. We also stratify the split on the response variable, which is very important to do because there are so few fraudulent transactions.\n",
    "from sklearn.model_selection import train_test_split\n",
    "X_train, X_test, y_train, y_test = train_test_split(X, y, test_size=0.3, random_state=1, stratify=y)"
   ]
  },
  {
   "cell_type": "markdown",
   "id": "08c03333",
   "metadata": {},
   "source": [
    "Decision Tree Classifier:"
   ]
  },
  {
   "cell_type": "code",
   "execution_count": 10,
   "id": "119637ba",
   "metadata": {},
   "outputs": [
    {
     "name": "stdout",
     "output_type": "stream",
     "text": [
      "\n",
      "Classification report of Decision Tree Classifier Results:\n",
      "\n",
      "              precision    recall  f1-score   support\n",
      "\n",
      "           0       0.98      1.00      0.99        81\n",
      "           1       1.00      0.98      0.99        81\n",
      "\n",
      "    accuracy                           0.99       162\n",
      "   macro avg       0.99      0.99      0.99       162\n",
      "weighted avg       0.99      0.99      0.99       162\n",
      "\n",
      "\n",
      "Confusion Matrix result of Decision Tree Classifier is:\n",
      " [[81  0]\n",
      " [ 2 79]]\n",
      "\n",
      "Sensitivity :  1.0\n",
      "\n",
      "Specificity :  0.9753086419753086\n",
      "\n",
      "Cross validation test results of accuracy:\n",
      "[0.9537037  0.93518519 0.99074074 0.91666667 0.99074074]\n",
      "\n",
      "Accuracy result of Decision Tree Classifier is: 95.74074074074075\n"
     ]
    }
   ],
   "source": [
    "from sklearn.metrics import accuracy_score, confusion_matrix\n",
    "from sklearn.tree import DecisionTreeClassifier\n",
    "from sklearn.model_selection import cross_val_score\n",
    "\n",
    "dtc = DecisionTreeClassifier()\n",
    "\n",
    "dtc.fit(X_train,y_train)\n",
    "\n",
    "predictR = dtc.predict(X_test)\n",
    "\n",
    "print(\"\")\n",
    "print('Classification report of Decision Tree Classifier Results:')\n",
    "print(\"\")\n",
    "print(classification_report(y_test,predictR))\n",
    "\n",
    "print(\"\")\n",
    "cm=confusion_matrix(y_test,predictR)\n",
    "print('Confusion Matrix result of Decision Tree Classifier is:\\n',cm)\n",
    "print(\"\")\n",
    "sensitivity = cm[0,0]/(cm[0,0]+cm[0,1])\n",
    "print('Sensitivity : ', sensitivity )\n",
    "print(\"\")\n",
    "specificity = cm[1,1]/(cm[1,0]+cm[1,1])\n",
    "print('Specificity : ', specificity)\n",
    "print(\"\")\n",
    "\n",
    "accuracy = cross_val_score(dtc, X, y, scoring='accuracy')\n",
    "print('Cross validation test results of accuracy:')\n",
    "print(accuracy)\n",
    "#get the mean of each fold \n",
    "print(\"\")\n",
    "print(\"Accuracy result of Decision Tree Classifier is:\",accuracy.mean() * 100)\n",
    "LR=accuracy.mean() * 100"
   ]
  },
  {
   "cell_type": "code",
   "execution_count": 11,
   "id": "0dd1e507",
   "metadata": {},
   "outputs": [],
   "source": [
    "def graph():\n",
    "    import matplotlib.pyplot as plt\n",
    "    data=[LR]\n",
    "    alg=\"Decision Tree Classifier \"\n",
    "    plt.figure(figsize=(5,5))\n",
    "    b=plt.bar(alg,data,color=(\"b\"))\n",
    "    plt.title(\"Accuracy comparison of Lung disease\",fontsize=15)\n",
    "    plt.legend(b,data,fontsize=9)"
   ]
  },
  {
   "cell_type": "code",
   "execution_count": 12,
   "id": "3c80a3ef",
   "metadata": {},
   "outputs": [
    {
     "data": {
      "image/png": "[encoded data removed]",
      "text/plain": [
       "<Figure size 360x360 with 1 Axes>"
      ]
     },
     "metadata": {
      "needs_background": "light"
     },
     "output_type": "display_data"
    }
   ],
   "source": [
    "graph()"
   ]
  },
  {
   "cell_type": "code",
   "execution_count": 13,
   "id": "3bc21f60",
   "metadata": {},
   "outputs": [
    {
     "name": "stdout",
     "output_type": "stream",
     "text": [
      "True Positive : 81\n",
      "True Negative : 0\n",
      "False Positive : 2\n",
      "False Negative : 79\n",
      "\n",
      "True Positive Rate : 0.50625\n",
      "True Negative Rate : 0.0\n",
      "False Positive Rate : 1.0\n",
      "False Negative Rate : 0.49375\n",
      "\n",
      "Positive Predictive Value : 0.9759036144578314\n",
      "Negative predictive value : 0.0\n"
     ]
    }
   ],
   "source": [
    "TP = cm[0][0]\n",
    "FP = cm[1][0]\n",
    "FN = cm[1][1]\n",
    "TN = cm[0][1]\n",
    "print(\"True Positive :\",TP)\n",
    "print(\"True Negative :\",TN)\n",
    "print(\"False Positive :\",FP)\n",
    "print(\"False Negative :\",FN)\n",
    "print(\"\")\n",
    "TPR = TP/(TP+FN)\n",
    "TNR = TN/(TN+FP)\n",
    "FPR = FP/(FP+TN)\n",
    "FNR = FN/(TP+FN)\n",
    "print(\"True Positive Rate :\",TPR)\n",
    "print(\"True Negative Rate :\",TNR)\n",
    "print(\"False Positive Rate :\",FPR)\n",
    "print(\"False Negative Rate :\",FNR)\n",
    "print(\"\")\n",
    "PPV = TP/(TP+FP)\n",
    "NPV = TN/(TN+FN)\n",
    "print(\"Positive Predictive Value :\",PPV)\n",
    "print(\"Negative predictive value :\",NPV)"
   ]
  },
  {
   "cell_type": "code",
   "execution_count": 14,
   "id": "31e34c2f",
   "metadata": {},
   "outputs": [
    {
     "name": "stdout",
     "output_type": "stream",
     "text": [
      "Confusion matrix-DecisionTreeClassifier:\n",
      "[[81  0]\n",
      " [ 2 79]]\n"
     ]
    },
    {
     "data": {
      "image/png": "[encoded data removed]",
      "text/plain": [
       "<Figure size 432x288 with 2 Axes>"
      ]
     },
     "metadata": {
      "needs_background": "light"
     },
     "output_type": "display_data"
    }
   ],
   "source": [
    "def plot_confusion_matrix(cm2, title='Confusion matrix-DecisionTreeClassifier', cmap=plt.cm.Blues):\n",
    "    target_names=['Predict','Actual']\n",
    "    plt.imshow(cm2, interpolation='nearest', cmap=cmap)\n",
    "    plt.title(title)\n",
    "    plt.colorbar()\n",
    "    tick_marks = np.arange(len(target_names))\n",
    "    plt.xticks(tick_marks, target_names, rotation=45)\n",
    "    plt.yticks(tick_marks, target_names)\n",
    "    plt.tight_layout()\n",
    "    plt.ylabel('True label')\n",
    "    plt.xlabel('Predicted label')\n",
    "\n",
    "cm2=confusion_matrix(y_test, predictR)\n",
    "print('Confusion matrix-DecisionTreeClassifier:')\n",
    "print(cm2)\n",
    "plot_confusion_matrix(cm2)"
   ]
  },
  {
   "cell_type": "code",
   "execution_count": null,
   "id": "4b17c6e3",
   "metadata": {},
   "outputs": [],
   "source": []
  }
 ],
 "metadata": {
  "kernelspec": {
   "display_name": "Python 3 (ipykernel)",
   "language": "python",
   "name": "python3"
  },
  "language_info": {
   "codemirror_mode": {
    "name": "ipython",
    "version": 3
   },
   "file_extension": ".py",
   "mimetype": "text/x-python",
   "name": "python",
   "nbconvert_exporter": "python",
   "pygments_lexer": "ipython3",
   "version": "3.8.10"
  }
 },
 "nbformat": 4,
 "nbformat_minor": 5
}
